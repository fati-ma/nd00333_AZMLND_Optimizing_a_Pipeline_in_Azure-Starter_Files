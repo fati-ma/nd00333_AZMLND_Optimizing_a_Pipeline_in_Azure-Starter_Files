{
  "cells": [
    {
      "cell_type": "code",
      "source": [
        "from azureml.core import Workspace, Experiment\r\n",
        "\r\n",
        "ws = Workspace.get(name=\"quick-starts-ws-131639\")\r\n",
        "exp = Experiment(workspace=ws, name=\"hyperDrive-pipeline-project1\")\r\n",
        "\r\n",
        "print('Workspace name: ' + ws.name, \r\n",
        "      'Azure region: ' + ws.location, \r\n",
        "      'Subscription id: ' + ws.subscription_id, \r\n",
        "      'Resource group: ' + ws.resource_group, sep = '\\n')\r\n",
        "\r\n",
        "run = exp.start_logging()"
      ],
      "outputs": [],
      "execution_count": null,
      "metadata": {}
    },
    {
      "cell_type": "code",
      "source": [
        "from azureml.core.compute import ComputeTarget, AmlCompute\r\n",
        "\r\n",
        "# TODO: Create compute cluster\r\n",
        "# Use vm_size = \"Standard_D2_V2\" in your provisioning configuration.\r\n",
        "# max_nodes should be no greater than 4.\r\n",
        "\r\n",
        "### YOUR CODE HERE ###\r\n",
        "\r\n",
        "compute_cluster = \"hyper-p1\"\r\n",
        "pv = AmlCompute.provisioning_configuration(vm_size='STANDARD_D2_V2',max_nodes=4)\r\n",
        "compute_target = ComputeTarget.create(ws, compute_cluster, pv)"
      ],
      "outputs": [],
      "execution_count": null,
      "metadata": {
        "collapsed": true,
        "jupyter": {
          "source_hidden": false,
          "outputs_hidden": false
        },
        "nteract": {
          "transient": {
            "deleting": false
          }
        }
      }
    },
    {
      "cell_type": "code",
      "source": [
        "from azureml.widgets import RunDetails\r\n",
        "from azureml.train.sklearn import SKLearn\r\n",
        "from azureml.train.hyperdrive.run import PrimaryMetricGoal\r\n",
        "from azureml.train.hyperdrive.policy import BanditPolicy\r\n",
        "from azureml.train.hyperdrive.sampling import RandomParameterSampling\r\n",
        "from azureml.train.hyperdrive.runconfig import HyperDriveConfig\r\n",
        "from azureml.train.hyperdrive.parameter_expressions import uniform\r\n",
        "import os\r\n",
        "\r\n",
        "# Specify parameter sampler\r\n",
        "### YOUR CODE HERE ###\r\n",
        "ps = RandomParameterSampling({\"C\":choice(0.1,0.5,1),\"max_iter\":choice(50,100,200)})\r\n",
        "\r\n",
        "# Specify a Policy\r\n",
        "### YOUR CODE HERE ###\r\n",
        "policy = BanditPolicy(evaluation_interval=50, slack_factor=0.1)\r\n",
        "\r\n",
        "if \"training\" not in os.listdir():\r\n",
        "    os.mkdir(\"./training\")\r\n",
        "\r\n",
        "# Create a SKLearn estimator for use with train.py\r\n",
        "### YOUR CODE HERE ###\r\n",
        "est = SKLearn(source_directory = './',  entry_script = 'train.py', compute_target = compute_target)\r\n",
        "\r\n",
        "# Create a HyperDriveConfig using the estimator, hyperparameter sampler, and policy.\r\n",
        "### YOUR CODE HERE ###\r\n",
        "hyperdrive_config = HyperDriveConfig(hyperparameter_sampling = ps, primary_metric_name='Accuracy', primary_metric_goal= PrimaryMetricGoal.MAXIMIZE, policy = policy, max_total_runs = 25, max_concurrent_runs = 4, estimator = est)"
      ],
      "outputs": [],
      "execution_count": null,
      "metadata": {
        "collapsed": true,
        "jupyter": {
          "source_hidden": false,
          "outputs_hidden": false
        },
        "nteract": {
          "transient": {
            "deleting": false
          }
        }
      }
    },
    {
      "cell_type": "code",
      "source": [
        "# Submit your hyperdrive run to the experiment and show run details with the widget.\r\n",
        "\r\n",
        "### YOUR CODE HERE ###\r\n",
        "hyperdrive_run = exp.submit(hyperdrive_config)\r\n",
        "RunDetails(hyperdrive_run).show()\r\n",
        "hyperdrive_run.wait_for_completion(show_output=True)"
      ],
      "outputs": [],
      "execution_count": null,
      "metadata": {
        "collapsed": true,
        "jupyter": {
          "source_hidden": false,
          "outputs_hidden": false
        },
        "nteract": {
          "transient": {
            "deleting": false
          }
        }
      }
    },
    {
      "cell_type": "code",
      "source": [
        "import joblib\r\n",
        "# Get your best run and save the model from that run.\r\n",
        "\r\n",
        "### YOUR CODE HERE ###\r\n",
        "best_run = hyperdrive_run.get_best_run_by_primary_metric()\r\n",
        "model = best_run.register_model(model_name='best_model_p1',model_path='outputs/model.joblib')"
      ],
      "outputs": [],
      "execution_count": null,
      "metadata": {
        "collapsed": true,
        "jupyter": {
          "source_hidden": false,
          "outputs_hidden": false
        },
        "nteract": {
          "transient": {
            "deleting": false
          }
        }
      }
    },
    {
      "cell_type": "code",
      "source": [
        "from azureml.data.dataset_factory import TabularDatasetFactory\r\n",
        "\r\n",
        "# Create TabularDataset using TabularDatasetFactory\r\n",
        "# Data is available at: \r\n",
        "# \"https://automlsamplenotebookdata.blob.core.windows.net/automl-sample-notebook-data/bankmarketing_train.csv\"\r\n",
        "\r\n",
        "### YOUR CODE HERE ###\r\n",
        "data_p1 = TabularDatasetFactory.from_delimited_files(path=\"https://automlsamplenotebookdata.blob.core.windows.net/automl-sample-notebook-data/bankmarketing_train.csv\")"
      ],
      "outputs": [],
      "execution_count": null,
      "metadata": {
        "collapsed": true,
        "jupyter": {
          "source_hidden": false,
          "outputs_hidden": false
        },
        "nteract": {
          "transient": {
            "deleting": false
          }
        }
      }
    },
    {
      "cell_type": "code",
      "source": [
        "from train import clean_data\r\n",
        "\r\n",
        "# Use the clean_data function to clean your data.\r\n",
        "### YOUR DATA OBJECT HERE ###\r\n",
        "x, y = clean_data(data_p1)"
      ],
      "outputs": [],
      "execution_count": null,
      "metadata": {
        "collapsed": true,
        "jupyter": {
          "source_hidden": false,
          "outputs_hidden": false
        },
        "nteract": {
          "transient": {
            "deleting": false
          }
        }
      }
    },
    {
      "cell_type": "code",
      "source": [
        "from azureml.train.automl import AutoMLConfig\r\n",
        "\r\n",
        "# Set parameters for AutoMLConfig\r\n",
        "# NOTE: DO NOT CHANGE THE experiment_timeout_minutes PARAMETER OR YOUR INSTANCE WILL TIME OUT.\r\n",
        "# If you wish to run the experiment longer, you will need to run this notebook in your own\r\n",
        "# Azure tenant, which will incur personal costs.\r\n",
        "automl_config = AutoMLConfig(\r\n",
        "    experiment_timeout_minutes=30,\r\n",
        "    task=\"classification\",\r\n",
        "    primary_metric=\"accuracy\",\r\n",
        "    training_data=data_p1,\r\n",
        "    label_column_name='y',\r\n",
        "    n_cross_validations=4)"
      ],
      "outputs": [],
      "execution_count": null,
      "metadata": {
        "collapsed": true,
        "jupyter": {
          "source_hidden": false,
          "outputs_hidden": false
        },
        "nteract": {
          "transient": {
            "deleting": false
          }
        }
      }
    },
    {
      "cell_type": "code",
      "source": [
        "# Submit your automl run\r\n",
        "\r\n",
        "### YOUR CODE HERE ###\r\n",
        "automl_run = exp.submit(automl_config, show_output = True)\r\n",
        "automl_run.wait_for_completion()"
      ],
      "outputs": [],
      "execution_count": null,
      "metadata": {
        "collapsed": true,
        "jupyter": {
          "source_hidden": false,
          "outputs_hidden": false
        },
        "nteract": {
          "transient": {
            "deleting": false
          }
        }
      }
    },
    {
      "cell_type": "code",
      "source": [
        "# Retrieve and save your best automl model.\r\n",
        "\r\n",
        "### YOUR CODE HERE ###\r\n",
        "best_automl_run, best_model = automl_run.get_output()\r\n",
        "best_automl_run.register_model(model_name = \"automl_model_p1.pkl\", model_path = './outputs/')"
      ],
      "outputs": [],
      "execution_count": null,
      "metadata": {
        "collapsed": true,
        "jupyter": {
          "source_hidden": false,
          "outputs_hidden": false
        },
        "nteract": {
          "transient": {
            "deleting": false
          }
        }
      }
    }
  ],
  "metadata": {
    "kernelspec": {
      "name": "python3-azureml",
      "language": "python",
      "display_name": "Python 3.6 - AzureML"
    },
    "language_info": {
      "name": "python",
      "version": "3.6.9",
      "mimetype": "text/x-python",
      "codemirror_mode": {
        "name": "ipython",
        "version": 3
      },
      "pygments_lexer": "ipython3",
      "nbconvert_exporter": "python",
      "file_extension": ".py"
    },
    "kernel_info": {
      "name": "python3-azureml"
    },
    "nteract": {
      "version": "nteract-front-end@1.0.0"
    }
  },
  "nbformat": 4,
  "nbformat_minor": 2
}